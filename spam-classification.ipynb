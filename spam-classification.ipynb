{
 "cells": [
  {
   "cell_type": "code",
   "execution_count": 1,
   "id": "d7982708-bda0-4a8d-a309-a7a37de4356a",
   "metadata": {},
   "outputs": [
    {
     "name": "stdout",
     "output_type": "stream",
     "text": [
      "./data_sets/train/spam : 500\n",
      "457 words in collection.\n",
      "./data_sets/train/ham : 2501\n",
      "296 words in collection.\n",
      "{'mon': {'count': 178, 'p_w|s': 0.356}, 'sep': {'count': 321, 'p_w|s': 0.642}, 'deliveredto': {'count': 474, 'p_w|s': 0.948}, 'localhost': {'count': 475, 'p_w|s': 0.95}, 'zzzzasonorg': {'count': 252, 'p_w|s': 0.504}, 'jalapeno': {'count': 263, 'p_w|s': 0.526}, 'imap': {'count': 351, 'p_w|s': 0.702}, 'dogmaslashnullorg': {'count': 356, 'p_w|s': 0.712}, 'let': {'count': 32, 'p_w|s': 0.064}, 'us': {'count': 157, 'p_w|s': 0.314}, 'find': {'count': 66, 'p_w|s': 0.132}, 'right': {'count': 58, 'p_w|s': 0.116}, 'mortgage': {'count': 32, 'p_w|s': 0.064}, 'mimeversion': {'count': 427, 'p_w|s': 0.854}, 'contenttype': {'count': 466, 'p_w|s': 0.932}, 'contenttransferencoding': {'count': 344, 'p_w|s': 0.688}, 'dear': {'count': 53, 'p_w|s': 0.106}, 'interest': {'count': 49, 'p_w|s': 0.098}, 'rates': {'count': 35, 'p_w|s': 0.07}, 'lowest': {'count': 29, 'p_w|s': 0.058}, 'years': {'count': 57, 'p_w|s': 0.114}, 'help': {'count': 92, 'p_w|s': 0.184}, 'best': {'count': 102, 'p_w|s': 0.204}, 'rate': {'count': 40, 'p_w|s': 0.08}, 'hundreds': {'count': 35, 'p_w|s': 0.07}, 'home': {'count': 71, 'p_w|s': 0.142}, 'second': {'count': 25, 'p_w|s': 0.05}, 'even': {'count': 63, 'p_w|s': 0.126}, 'less': {'count': 39, 'p_w|s': 0.078}, 'credit': {'count': 41, 'p_w|s': 0.082}, 'service': {'count': 172, 'p_w|s': 0.344}, 'free': {'count': 202, 'p_w|s': 0.404}, 'new': {'count': 160, 'p_w|s': 0.32}, 'without': {'count': 53, 'p_w|s': 0.106}, 'fill': {'count': 75, 'p_w|s': 0.15}, 'quick': {'count': 36, 'p_w|s': 0.072}, 'simple': {'count': 54, 'p_w|s': 0.108}, 'form': {'count': 112, 'p_w|s': 0.224}, 'future': {'count': 82, 'p_w|s': 0.164}, 'today': {'count': 88, 'p_w|s': 0.176}, 'visit': {'count': 60, 'p_w|s': 0.12}, 'unsubscribe': {'count': 68, 'p_w|s': 0.136}, 'please': {'count': 260, 'p_w|s': 0.52}, 'thu': {'count': 123, 'p_w|s': 0.246}, 'webnotenet': {'count': 231, 'p_w|s': 0.462}, 'smtp': {'count': 356, 'p_w|s': 0.712}, 'exchange': {'count': 68, 'p_w|s': 0.136}, 'internet': {'count': 140, 'p_w|s': 0.28}, 'mail': {'count': 178, 'p_w|s': 0.356}, 'version': {'count': 67, 'p_w|s': 0.134}, 'protect': {'count': 32, 'p_w|s': 0.064}, 'information': {'count': 177, 'p_w|s': 0.354}, 'computer': {'count': 49, 'p_w|s': 0.098}, 'must': {'count': 70, 'p_w|s': 0.14}, 'software': {'count': 56, 'p_w|s': 0.112}, 'professional': {'count': 45, 'p_w|s': 0.09}, 'includes': {'count': 38, 'p_w|s': 0.076}, 'six': {'count': 28, 'p_w|s': 0.056}, 'yes': {'count': 35, 'p_w|s': 0.07}, 'special': {'count': 76, 'p_w|s': 0.152}, 'low': {'count': 56, 'p_w|s': 0.112}, 'price': {'count': 69, 'p_w|s': 0.138}, 'secure': {'count': 34, 'p_w|s': 0.068}, 'private': {'count': 57, 'p_w|s': 0.114}, 'valuable': {'count': 35, 'p_w|s': 0.07}, 'allow': {'count': 52, 'p_w|s': 0.104}, 'transfer': {'count': 34, 'p_w|s': 0.068}, 'send': {'count': 98, 'p_w|s': 0.196}, 'emails': {'count': 63, 'p_w|s': 0.126}, 'data': {'count': 30, 'p_w|s': 0.06}, 'easily': {'count': 38, 'p_w|s': 0.076}, 'great': {'count': 66, 'p_w|s': 0.132}, 'retail': {'count': 31, 'p_w|s': 0.062}, 'value': {'count': 36, 'p_w|s': 0.072}, \"don't\": {'count': 91, 'p_w|s': 0.182}, 'copy': {'count': 28, 'p_w|s': 0.056}, 'email': {'count': 282, 'p_w|s': 0.564}, 'system': {'count': 43, 'p_w|s': 0.086}, 'state': {'count': 70, 'p_w|s': 0.14}, 'wish': {'count': 139, 'p_w|s': 0.278}, 'mailing': {'count': 94, 'p_w|s': 0.188}, 'well': {'count': 52, 'p_w|s': 0.104}, 'thousands': {'count': 44, 'p_w|s': 0.088}, 'wed': {'count': 116, 'p_w|s': 0.232}, 'pickup': {'count': 29, 'p_w|s': 0.058}, 'microsoft': {'count': 191, 'p_w|s': 0.382}, 'tue': {'count': 124, 'p_w|s': 0.248}, 'better': {'count': 35, 'p_w|s': 0.07}, 'threadindex': {'count': 41, 'p_w|s': 0.082}, 'contentclass': {'count': 41, 'p_w|s': 0.082}, 'urncontentclassesmessage': {'count': 41, 'p_w|s': 0.082}, 'xmailer': {'count': 259, 'p_w|s': 0.518}, 'cdo': {'count': 41, 'p_w|s': 0.082}, 'windows': {'count': 72, 'p_w|s': 0.144}, 'xmimeole': {'count': 67, 'p_w|s': 0.134}, 'produced': {'count': 69, 'p_w|s': 0.138}, 'mimeole': {'count': 67, 'p_w|s': 0.134}, 'xoriginalarrivaltime': {'count': 67, 'p_w|s': 0.134}, 'multipart': {'count': 55, 'p_w|s': 0.11}, 'message': {'count': 155, 'p_w|s': 0.31}, 'mime': {'count': 59, 'p_w|s': 0.118}, 'format': {'count': 63, 'p_w|s': 0.126}, 'quotedprintable': {'count': 143, 'p_w|s': 0.286}, 'try': {'count': 28, 'p_w|s': 0.056}, 'guaranteed': {'count': 48, 'p_w|s': 0.096}, 'year': {'count': 59, 'p_w|s': 0.118}, 'age': {'count': 27, 'p_w|s': 0.054}, 'call': {'count': 70, 'p_w|s': 0.14}, 'name': {'count': 102, 'p_w|s': 0.204}, 'phone': {'count': 69, 'p_w|s': 0.138}, 'city': {'count': 45, 'p_w|s': 0.09}, 'financial': {'count': 61, 'p_w|s': 0.122}, 'services': {'count': 51, 'p_w|s': 0.102}, 'want': {'count': 121, 'p_w|s': 0.242}, 'anyone': {'count': 44, 'p_w|s': 0.088}, 'receive': {'count': 147, 'p_w|s': 0.294}, 'mailings': {'count': 58, 'p_w|s': 0.116}, 'communication': {'count': 39, 'p_w|s': 0.078}, 'sent': {'count': 88, 'p_w|s': 0.176}, 'insurance': {'count': 50, 'p_w|s': 0.1}, 'professionals': {'count': 32, 'p_w|s': 0.064}, 'removed': {'count': 121, 'p_w|s': 0.242}, 'list': {'count': 217, 'p_w|s': 0.434}, 'reply': {'count': 97, 'p_w|s': 0.194}, 'instead': {'count': 39, 'p_w|s': 0.078}, 'go': {'count': 120, 'p_w|s': 0.24}, 'legal': {'count': 62, 'p_w|s': 0.124}, 'notice': {'count': 41, 'p_w|s': 0.082}, 'helvetica': {'count': 82, 'p_w|s': 0.164}, 'ad': {'count': 54, 'p_w|s': 0.108}, 'xauthenticationwarning': {'count': 32, 'p_w|s': 0.064}, 'use': {'count': 91, 'p_w|s': 0.182}, 'unknown': {'count': 65, 'p_w|s': 0.13}, 'replyto': {'count': 229, 'p_w|s': 0.458}, 'per': {'count': 51, 'p_w|s': 0.102}, 'info': {'count': 31, 'p_w|s': 0.062}, 'xpriority': {'count': 166, 'p_w|s': 0.332}, 'xmsmailpriority': {'count': 111, 'p_w|s': 0.222}, 'normal': {'count': 110, 'p_w|s': 0.22}, 'importance': {'count': 83, 'p_w|s': 0.166}, 'important': {'count': 33, 'p_w|s': 0.066}, 'names': {'count': 28, 'p_w|s': 0.056}, 'finally': {'count': 28, 'p_w|s': 0.056}, 'available': {'count': 61, 'p_w|s': 0.122}, 'general': {'count': 37, 'p_w|s': 0.074}, 'public': {'count': 55, 'p_w|s': 0.11}, 'prices': {'count': 34, 'p_w|s': 0.068}, 'one': {'count': 165, 'p_w|s': 0.33}, 'net': {'count': 25, 'p_w|s': 0.05}, 'approved': {'count': 32, 'p_w|s': 0.064}, 'currently': {'count': 42, 'p_w|s': 0.084}, 'much': {'count': 66, 'p_w|s': 0.132}, 'include': {'count': 53, 'p_w|s': 0.106}, 'full': {'count': 44, 'p_w|s': 0.088}, 'access': {'count': 55, 'p_w|s': 0.11}, 'control': {'count': 36, 'p_w|s': 0.072}, 'sincerely': {'count': 27, 'p_w|s': 0.054}, 'remove': {'count': 90, 'p_w|s': 0.18}, 'address': {'count': 107, 'p_w|s': 0.214}, 'company': {'count': 110, 'p_w|s': 0.22}, 'click': {'count': 148, 'p_w|s': 0.296}, 'fri': {'count': 133, 'p_w|s': 0.266}, 'aug': {'count': 197, 'p_w|s': 0.394}, 'phoboslabsspamassassintaintorg': {'count': 202, 'p_w|s': 0.404}, 'mailwebnotenet': {'count': 115, 'p_w|s': 0.23}, 'smtpeasydnscom': {'count': 27, 'p_w|s': 0.054}, 'give': {'count': 59, 'p_w|s': 0.118}, 'away': {'count': 25, 'p_w|s': 0.05}, 'earn': {'count': 26, 'p_w|s': 0.052}, 'days': {'count': 62, 'p_w|s': 0.124}, 'line': {'count': 63, 'p_w|s': 0.126}, 'people': {'count': 74, 'p_w|s': 0.148}, 'product': {'count': 41, 'p_w|s': 0.082}, 'next': {'count': 49, 'p_w|s': 0.098}, 'think': {'count': 30, 'p_w|s': 0.06}, 'first': {'count': 54, 'p_w|s': 0.108}, 'online': {'count': 77, 'p_w|s': 0.154}, 'see': {'count': 68, 'p_w|s': 0.136}, 'little': {'count': 37, 'p_w|s': 0.074}, 'good': {'count': 44, 'p_w|s': 0.088}, 'work': {'count': 67, 'p_w|s': 0.134}, 'time': {'count': 148, 'p_w|s': 0.296}, 'week': {'count': 36, 'p_w|s': 0.072}, 'weeks': {'count': 26, 'p_w|s': 0.052}, 'business': {'count': 112, 'p_w|s': 0.224}, 'plan': {'count': 38, 'p_w|s': 0.076}, 'tell': {'count': 30, 'p_w|s': 0.06}, \"you're\": {'count': 29, 'p_w|s': 0.058}, 'would': {'count': 90, 'p_w|s': 0.18}, 'get': {'count': 171, 'p_w|s': 0.342}, 'look': {'count': 34, 'p_w|s': 0.068}, 'following': {'count': 64, 'p_w|s': 0.128}, 'number': {'count': 56, 'p_w|s': 0.112}, 'code': {'count': 35, 'p_w|s': 0.07}, 'states': {'count': 38, 'p_w|s': 0.076}, 'unsolicited': {'count': 31, 'p_w|s': 0.062}, 'person': {'count': 26, 'p_w|s': 0.052}, 'may': {'count': 107, 'p_w|s': 0.214}, 'cost': {'count': 39, 'p_w|s': 0.078}, 'sending': {'count': 39, 'p_w|s': 0.078}, 'word': {'count': 26, 'p_w|s': 0.052}, 'phobos': {'count': 88, 'p_w|s': 0.176}, 'like': {'count': 106, 'p_w|s': 0.212}, 'outlook': {'count': 124, 'p_w|s': 0.248}, 'express': {'count': 100, 'p_w|s': 0.2}, 'color': {'count': 25, 'p_w|s': 0.05}, 'position': {'count': 28, 'p_w|s': 0.056}, 'response': {'count': 32, 'p_w|s': 0.064}, 'fontfamily': {'count': 26, 'p_w|s': 0.052}, 'customer': {'count': 25, 'p_w|s': 0.05}, 'bank': {'count': 42, 'p_w|s': 0.084}, 'build': {'count': 37, 'p_w|s': 0.074}, 'risk': {'count': 53, 'p_w|s': 0.106}, 'arial': {'count': 50, 'p_w|s': 0.1}, 'pay': {'count': 74, 'p_w|s': 0.148}, 'later': {'count': 27, 'p_w|s': 0.054}, \"that's\": {'count': 34, 'p_w|s': 0.068}, 'money': {'count': 115, 'p_w|s': 0.23}, 'deal': {'count': 47, 'p_w|s': 0.094}, 'track': {'count': 27, 'p_w|s': 0.054}, 'know': {'count': 71, 'p_w|s': 0.142}, 'making': {'count': 40, 'p_w|s': 0.08}, 'change': {'count': 36, 'p_w|s': 0.072}, 'make': {'count': 90, 'p_w|s': 0.18}, 'investment': {'count': 58, 'p_w|s': 0.116}, 'paid': {'count': 31, 'p_w|s': 0.062}, 'support': {'count': 38, 'p_w|s': 0.076}, 'thank': {'count': 49, 'p_w|s': 0.098}, 'invoked': {'count': 28, 'p_w|s': 0.056}, 'around': {'count': 36, 'p_w|s': 0.072}, 'frontpage': {'count': 30, 'p_w|s': 0.06}, 'current': {'count': 42, 'p_w|s': 0.084}, 'federal': {'count': 25, 'p_w|s': 0.05}, 'receiving': {'count': 60, 'p_w|s': 0.12}, 'registered': {'count': 36, 'p_w|s': 0.072}, 'offers': {'count': 74, 'p_w|s': 0.148}, 'marketing': {'count': 59, 'p_w|s': 0.118}, 'addresses': {'count': 32, 'p_w|s': 0.064}, 'within': {'count': 66, 'p_w|s': 0.132}, 'hours': {'count': 58, 'p_w|s': 0.116}, 'error': {'count': 59, 'p_w|s': 0.118}, 'database': {'count': 30, 'p_w|s': 0.06}, 'provide': {'count': 47, 'p_w|s': 0.094}, 'old': {'count': 42, 'p_w|s': 0.084}, 'increase': {'count': 29, 'p_w|s': 0.058}, 'sales': {'count': 34, 'p_w|s': 0.068}, 'millions': {'count': 27, 'p_w|s': 0.054}, 'via': {'count': 42, 'p_w|s': 0.084}, 'million': {'count': 80, 'p_w|s': 0.16}, 'bulk': {'count': 86, 'p_w|s': 0.172}, 'act': {'count': 33, 'p_w|s': 0.066}, 'products': {'count': 45, 'p_w|s': 0.09}, 'way': {'count': 52, 'p_w|s': 0.104}, 'advertising': {'count': 29, 'p_w|s': 0.058}, 'web': {'count': 59, 'p_w|s': 0.118}, 'huge': {'count': 29, 'p_w|s': 0.058}, 'search': {'count': 27, 'p_w|s': 0.054}, 'contact': {'count': 90, 'p_w|s': 0.18}, 'take': {'count': 83, 'p_w|s': 0.166}, 'read': {'count': 32, 'p_w|s': 0.064}, 'offer': {'count': 90, 'p_w|s': 0.18}, 'easy': {'count': 54, 'p_w|s': 0.108}, 'order': {'count': 74, 'p_w|s': 0.148}, 'dollars': {'count': 45, 'p_w|s': 0.09}, 'instructions': {'count': 35, 'p_w|s': 0.07}, 'need': {'count': 103, 'p_w|s': 0.206}, 'limited': {'count': 44, 'p_w|s': 0.088}, 'last': {'count': 49, 'p_w|s': 0.098}, 'check': {'count': 28, 'p_w|s': 0.056}, 'fax': {'count': 48, 'p_w|s': 0.096}, 'card': {'count': 29, 'p_w|s': 0.058}, 'day': {'count': 71, 'p_w|s': 0.142}, 'place': {'count': 32, 'p_w|s': 0.064}, 'simply': {'count': 50, 'p_w|s': 0.1}, 'office': {'count': 32, 'p_w|s': 0.064}, 'back': {'count': 43, 'p_w|s': 0.086}, 'accept': {'count': 27, 'p_w|s': 0.054}, 'shipping': {'count': 25, 'p_w|s': 0.05}, 'including': {'count': 27, 'p_w|s': 0.054}, 'note': {'count': 30, 'p_w|s': 0.06}, 'cannot': {'count': 26, 'p_w|s': 0.052}, 'complete': {'count': 27, 'p_w|s': 0.054}, 'required': {'count': 57, 'p_w|s': 0.114}, 'total': {'count': 29, 'p_w|s': 0.058}, 'amount': {'count': 29, 'p_w|s': 0.058}, 'understand': {'count': 33, 'p_w|s': 0.066}, 'part': {'count': 32, 'p_w|s': 0.064}, 'transaction': {'count': 32, 'p_w|s': 0.064}, 'however': {'count': 25, 'p_w|s': 0.05}, 'found': {'count': 25, 'p_w|s': 0.05}, 'buy': {'count': 61, 'p_w|s': 0.122}, 'never': {'count': 64, 'p_w|s': 0.128}, 'another': {'count': 28, 'p_w|s': 0.056}, 'got': {'count': 39, 'p_w|s': 0.078}, 'working': {'count': 33, 'p_w|s': 0.066}, 'life': {'count': 57, 'p_w|s': 0.114}, 'month': {'count': 48, 'p_w|s': 0.096}, 'fact': {'count': 27, 'p_w|s': 0.054}, 'reason': {'count': 25, 'p_w|s': 0.05}, 'deliverydate': {'count': 29, 'p_w|s': 0.058}, 'sender': {'count': 125, 'p_w|s': 0.25}, 'xstatus': {'count': 29, 'p_w|s': 0.058}, 'xkeywords': {'count': 29, 'p_w|s': 0.058}, 'fortune': {'count': 25, 'p_w|s': 0.05}, 'immediate': {'count': 26, 'p_w|s': 0.052}, 'growing': {'count': 26, 'p_w|s': 0.052}, 'keep': {'count': 50, 'p_w|s': 0.1}, 'looking': {'count': 33, 'p_w|s': 0.066}, 'individuals': {'count': 25, 'p_w|s': 0.05}, 'income': {'count': 42, 'p_w|s': 0.084}, 'real': {'count': 30, 'p_w|s': 0.06}, 'opportunity': {'count': 51, 'p_w|s': 0.102}, 'experience': {'count': 27, 'p_w|s': 0.054}, 'link': {'count': 87, 'p_w|s': 0.174}, 'request': {'count': 40, 'p_w|s': 0.08}, 'opportunities': {'count': 25, 'p_w|s': 0.05}, 'answer': {'count': 28, 'p_w|s': 0.056}, 'lughtuathaorg': {'count': 49, 'p_w|s': 0.098}, 'lugh': {'count': 30, 'p_w|s': 0.06}, 'host': {'count': 35, 'p_w|s': 0.07}, 'claimed': {'count': 33, 'p_w|s': 0.066}, 're': {'count': 35, 'p_w|s': 0.07}, 'lose': {'count': 32, 'p_w|s': 0.064}, 'errorsto': {'count': 69, 'p_w|s': 0.138}, 'xmailmanversion': {'count': 64, 'p_w|s': 0.128}, 'precedence': {'count': 74, 'p_w|s': 0.148}, 'listid': {'count': 72, 'p_w|s': 0.144}, 'irish': {'count': 56, 'p_w|s': 0.112}, 'linux': {'count': 50, 'p_w|s': 0.1}, \"users'\": {'count': 49, 'p_w|s': 0.098}, 'group': {'count': 55, 'p_w|s': 0.11}, 'xbeenthere': {'count': 64, 'p_w|s': 0.128}, 'manager': {'count': 26, 'p_w|s': 0.052}, 'maintainer': {'count': 49, 'p_w|s': 0.098}, 'sun': {'count': 70, 'p_w|s': 0.14}, 'sat': {'count': 86, 'p_w|s': 0.172}, 'sir': {'count': 25, 'p_w|s': 0.05}, 'due': {'count': 31, 'p_w|s': 0.062}, 'claim': {'count': 30, 'p_w|s': 0.06}, 'country': {'count': 42, 'p_w|s': 0.084}, 'party': {'count': 34, 'p_w|s': 0.068}, 'late': {'count': 27, 'p_w|s': 0.054}, 'security': {'count': 34, 'p_w|s': 0.068}, 'family': {'count': 39, 'p_w|s': 0.078}, 'still': {'count': 33, 'p_w|s': 0.066}, 'assistance': {'count': 41, 'p_w|s': 0.082}, 'immediately': {'count': 36, 'p_w|s': 0.072}, 'ready': {'count': 34, 'p_w|s': 0.068}, 'assist': {'count': 28, 'p_w|s': 0.056}, 'since': {'count': 39, 'p_w|s': 0.078}, 'anything': {'count': 32, 'p_w|s': 0.064}, 'going': {'count': 29, 'p_w|s': 0.058}, \"it's\": {'count': 58, 'p_w|s': 0.116}, 'based': {'count': 34, 'p_w|s': 0.068}, 'sum': {'count': 31, 'p_w|s': 0.062}, 'five': {'count': 28, 'p_w|s': 0.056}, 'account': {'count': 44, 'p_w|s': 0.088}, 'used': {'count': 36, 'p_w|s': 0.072}, 'fund': {'count': 36, 'p_w|s': 0.072}, 'also': {'count': 98, 'p_w|s': 0.196}, 'come': {'count': 35, 'p_w|s': 0.07}, 'successful': {'count': 26, 'p_w|s': 0.052}, 'believe': {'count': 32, 'p_w|s': 0.064}, 'html': {'count': 39, 'p_w|s': 0.078}, 'longer': {'count': 28, 'p_w|s': 0.056}, 'feel': {'count': 32, 'p_w|s': 0.064}, 'cc': {'count': 101, 'p_w|s': 0.202}, 'report': {'count': 33, 'p_w|s': 0.066}, 'top': {'count': 32, 'p_w|s': 0.064}, 'news': {'count': 35, 'p_w|s': 0.07}, 'market': {'count': 44, 'p_w|s': 0.088}, 'government': {'count': 40, 'p_w|s': 0.08}, 'sites': {'count': 49, 'p_w|s': 0.098}, 'personal': {'count': 51, 'p_w|s': 0.102}, 'put': {'count': 45, 'p_w|s': 0.09}, 'high': {'count': 42, 'p_w|s': 0.084}, 'follow': {'count': 29, 'p_w|s': 0.058}, 'site': {'count': 55, 'p_w|s': 0.11}, 'using': {'count': 50, 'p_w|s': 0.1}, 'program': {'count': 50, 'p_w|s': 0.1}, 'body': {'count': 29, 'p_w|s': 0.058}, 'leramilerctrorg': {'count': 27, 'p_w|s': 0.054}, 'xvirusscanned': {'count': 28, 'p_w|s': 0.056}, 'amavisdmilter': {'count': 27, 'p_w|s': 0.054}, 'learn': {'count': 36, 'p_w|s': 0.072}, 'works': {'count': 25, 'p_w|s': 0.05}, 'entire': {'count': 26, 'p_w|s': 0.052}, 'times': {'count': 31, 'p_w|s': 0.062}, 'member': {'count': 41, 'p_w|s': 0.082}, 'subscribed': {'count': 28, 'p_w|s': 0.056}, 'unsubscribed': {'count': 28, 'p_w|s': 0.056}, 'made': {'count': 61, 'p_w|s': 0.122}, 'two': {'count': 42, 'p_w|s': 0.084}, 'said': {'count': 27, 'p_w|s': 0.054}, 'cash': {'count': 47, 'p_w|s': 0.094}, 'ever': {'count': 40, 'p_w|s': 0.08}, 'always': {'count': 32, 'p_w|s': 0.064}, 'sell': {'count': 33, 'p_w|s': 0.066}, \"you'll\": {'count': 42, 'p_w|s': 0.084}, 'could': {'count': 54, 'p_w|s': 0.108}, 'large': {'count': 29, 'p_w|s': 0.058}, 'long': {'count': 43, 'p_w|s': 0.086}, 'sure': {'count': 37, 'p_w|s': 0.074}, 'absolutely': {'count': 36, 'p_w|s': 0.072}, 'profitable': {'count': 29, 'p_w|s': 0.058}, 'past': {'count': 33, 'p_w|s': 0.066}, 'become': {'count': 28, 'p_w|s': 0.056}, 'months': {'count': 29, 'p_w|s': 0.058}, 'share': {'count': 29, 'p_w|s': 0.058}, 'save': {'count': 56, 'p_w|s': 0.112}, 'every': {'count': 55, 'p_w|s': 0.11}, 'start': {'count': 47, 'p_w|s': 0.094}, 'possible': {'count': 33, 'p_w|s': 0.066}, 'move': {'count': 25, 'p_w|s': 0.05}, 'world': {'count': 37, 'p_w|s': 0.074}, 'website': {'count': 33, 'p_w|s': 0.066}, 'numbers': {'count': 29, 'p_w|s': 0.058}, 'questions': {'count': 34, 'p_w|s': 0.068}, 'interested': {'count': 29, 'p_w|s': 0.058}, 'spam': {'count': 28, 'p_w|s': 0.056}, 'united': {'count': 39, 'p_w|s': 0.078}, 'seen': {'count': 27, 'p_w|s': 0.054}, 'many': {'count': 44, 'p_w|s': 0.088}, 'already': {'count': 28, 'p_w|s': 0.056}, 'forward': {'count': 26, 'p_w|s': 0.052}, 'different': {'count': 28, 'p_w|s': 0.056}, 'optin': {'count': 35, 'p_w|s': 0.07}, 'show': {'count': 25, 'p_w|s': 0.05}, 'live': {'count': 29, 'p_w|s': 0.058}, 'programs': {'count': 28, 'p_w|s': 0.056}, 'waiting': {'count': 26, 'p_w|s': 0.052}, 'nothing': {'count': 32, 'p_w|s': 0.064}, 'quality': {'count': 32, 'p_w|s': 0.064}, 'removal': {'count': 46, 'p_w|s': 0.092}, 'listunsubscribe': {'count': 42, 'p_w|s': 0.084}, 'listpost': {'count': 34, 'p_w|s': 0.068}, 'listhelp': {'count': 42, 'p_w|s': 0.084}, 'listsubscribe': {'count': 42, 'p_w|s': 0.084}, 'listarchive': {'count': 42, 'p_w|s': 0.084}, 'regards': {'count': 25, 'p_w|s': 0.05}, 'pm': {'count': 28, 'p_w|s': 0.056}, 'xmimeautoconverted': {'count': 27, 'p_w|s': 0.054}, 'telephone': {'count': 25, 'p_w|s': 0.05}, 'xoriginaldate': {'count': 27, 'p_w|s': 0.054}, 'guarantee': {'count': 33, 'p_w|s': 0.066}, 'true': {'count': 35, 'p_w|s': 0.07}, 'companies': {'count': 47, 'p_w|s': 0.094}, 'matter': {'count': 27, 'p_w|s': 0.054}, 'direct': {'count': 34, 'p_w|s': 0.068}, 'purchase': {'count': 37, 'p_w|s': 0.074}, 'friend': {'count': 25, 'p_w|s': 0.05}, 'reach': {'count': 26, 'p_w|s': 0.052}, 'actually': {'count': 26, 'p_w|s': 0.052}, 'join': {'count': 27, 'p_w|s': 0.054}, 'run': {'count': 26, 'p_w|s': 0.052}, 'fast': {'count': 26, 'p_w|s': 0.052}, 'independent': {'count': 29, 'p_w|s': 0.058}}\n"
     ]
    },
    {
     "data": {
      "text/plain": [
       "'\\nfor word in total_vocab:\\n    combined_bag[word] = {\"spam_count\" : bag_of_words_spam.get(word, 0), \"ham_count\" : bag_of_words_ham.get(word, 0)}\\n\\nsorted_combined_bag = sorted(combined_bag.items(), key=lambda item: item[1][\"spam_count\"], reverse=True)\\n# sorted_combined_bag = sorted(combined_bag.items(), key=lambda item: item[1][\"ham_count\"])\\nprint(sorted_combined_bag)\\n'"
      ]
     },
     "execution_count": 1,
     "metadata": {},
     "output_type": "execute_result"
    }
   ],
   "source": [
    "from file_processing import build_dictionary, get_files_count, print_portion\n",
    "# from vocabulary_processing import ...\n",
    "\n",
    "bag_of_words_spam = build_dictionary(\"spam\")\n",
    "bag_of_words_ham = build_dictionary(\"ham\")\n",
    "total_files = get_files_count(\"spam\") + get_files_count(\"ham\")\n",
    "# total_vocab = dict(set(bag_of_words_spam.items()) | set(bag_of_words_ham.items()))\n",
    "# total_words = (len(total_vocab))\n",
    "print(bag_of_words_spam)\n",
    "\"\"\"\n",
    "for word in total_vocab:\n",
    "    combined_bag[word] = {\"spam_count\" : bag_of_words_spam.get(word, 0), \"ham_count\" : bag_of_words_ham.get(word, 0)}\n",
    "\n",
    "sorted_combined_bag = sorted(combined_bag.items(), key=lambda item: item[1][\"spam_count\"], reverse=True)\n",
    "# sorted_combined_bag = sorted(combined_bag.items(), key=lambda item: item[1][\"ham_count\"])\n",
    "print(sorted_combined_bag)\n",
    "\"\"\"\n",
    "\n",
    "# P(word | spam) = times appeared in spam / total words\n",
    "\n",
    "# or: p(word | spam)*p(spam) / p(word)\n",
    "\n",
    "# print_portion(bag_of_words, count, 0.9, 1)\n"
   ]
  },
  {
   "cell_type": "code",
   "execution_count": null,
   "id": "b21fa30e",
   "metadata": {},
   "outputs": [],
   "source": []
  },
  {
   "cell_type": "code",
   "execution_count": 2,
   "id": "a28251c3-9de8-4c44-b8b8-ff23386007ac",
   "metadata": {},
   "outputs": [
    {
     "data": {
      "text/plain": [
       "'\\nimport numpy as np\\nimport pandas as pd\\nimport matplotlib.pyplot as plt\\n\\n# reading csv\\ndf = pd.read_csv(\\'Advertising.csv\\')\\n\\n# ???\\ndef update_w_and_b(spendings, sales, w, b, alpha):\\n    dl_dw = 0.0\\n    dl_db = 0.0\\n    N = len(spendings)\\n\\n    for i in range(N):\\n        dl_dw += -2*spendings[i]*(sales[i] - (w*spendings[i] + b))\\n        dl_db += -2*(sales[i] - (w*spendings[i] + b))\\n\\n    w = w - (1/float(N))*dl_dw*alpha\\n    b = b - (1/float(N))*dl_db*alpha\\n\\n    return w, b\\n\\n# ???\\ndef train(spendings, sales, w, b, alpha, epochs):\\n    for e in range(epochs):\\n        w, b = update_w_and_b(spendings, sales, w, b, alpha)\\n\\n        if e % 400 == 0:\\n            print(\"epoch:\", e, \"loss: \", avg_loss(spendings, sales, w, b))\\n\\n    return w, b\\n\\n# ???\\ndef avg_loss(spendings, sales, w, b):\\n    N = len(spendings)\\n    total_error = 0.0\\n    for i in range(N):\\n        total_error += (sales[i] - (w*spendings[i] + b))**2\\n    return total_error / float(N)\\n                                    \\n                        \\n# parameters\\nw_init = 0.0\\nb_init = 0.0\\nalpha = 0.001\\nepochs = 2000\\n\\n# features\\nspendings = df[\\'radio\\'].values\\nsales = df[\\'sales\\'].values\\n\\n# Train the model\\nw, b = train(spendings, sales, w_init, b_init, alpha, epochs)\\n\\n# plot data and linear regression\\nplt.scatter(spendings, sales, label=\\'Data\\')\\nx_line = np.linspace(min(spendings), max(spendings), 100)\\ny_line = w * x_line + b\\nplt.plot(x_line, y_line, color=\\'red\\', label=\\'Linear regression\\')\\nplt.xlabel(\\'Radio Budget\\')\\nplt.ylabel(\\'Sales\\')\\nplt.legend()\\nplt.title(\\'Linear Regression on Radio vs Sales\\')\\nplt.show()\\n\\nprint(\"\\n\")\\n## Test Prediction\\ndef predict(x,w,b):\\n    prediction = w*x + b\\n    print(f\\'Input of {x} has a predicted output of {prediction}\\')\\n    return prediction\\n\\n\\nw, b = train(spendings, sales, 0.0, 0.0, 0.001, 15000)\\nx = 23.0\\ny = predict(x,w,b)\\n'"
      ]
     },
     "execution_count": 2,
     "metadata": {},
     "output_type": "execute_result"
    }
   ],
   "source": [
    "\"\"\"\n",
    "import numpy as np\n",
    "import pandas as pd\n",
    "import matplotlib.pyplot as plt\n",
    "\n",
    "# reading csv\n",
    "df = pd.read_csv('Advertising.csv')\n",
    "\n",
    "# ???\n",
    "def update_w_and_b(spendings, sales, w, b, alpha):\n",
    "    dl_dw = 0.0\n",
    "    dl_db = 0.0\n",
    "    N = len(spendings)\n",
    "\n",
    "    for i in range(N):\n",
    "        dl_dw += -2*spendings[i]*(sales[i] - (w*spendings[i] + b))\n",
    "        dl_db += -2*(sales[i] - (w*spendings[i] + b))\n",
    "\n",
    "    w = w - (1/float(N))*dl_dw*alpha\n",
    "    b = b - (1/float(N))*dl_db*alpha\n",
    "\n",
    "    return w, b\n",
    "\n",
    "# ???\n",
    "def train(spendings, sales, w, b, alpha, epochs):\n",
    "    for e in range(epochs):\n",
    "        w, b = update_w_and_b(spendings, sales, w, b, alpha)\n",
    "\n",
    "        if e % 400 == 0:\n",
    "            print(\"epoch:\", e, \"loss: \", avg_loss(spendings, sales, w, b))\n",
    "\n",
    "    return w, b\n",
    "\n",
    "# ???\n",
    "def avg_loss(spendings, sales, w, b):\n",
    "    N = len(spendings)\n",
    "    total_error = 0.0\n",
    "    for i in range(N):\n",
    "        total_error += (sales[i] - (w*spendings[i] + b))**2\n",
    "    return total_error / float(N)\n",
    "                                    \n",
    "                        \n",
    "# parameters\n",
    "w_init = 0.0\n",
    "b_init = 0.0\n",
    "alpha = 0.001\n",
    "epochs = 2000\n",
    "\n",
    "# features\n",
    "spendings = df['radio'].values\n",
    "sales = df['sales'].values\n",
    "\n",
    "# Train the model\n",
    "w, b = train(spendings, sales, w_init, b_init, alpha, epochs)\n",
    "\n",
    "# plot data and linear regression\n",
    "plt.scatter(spendings, sales, label='Data')\n",
    "x_line = np.linspace(min(spendings), max(spendings), 100)\n",
    "y_line = w * x_line + b\n",
    "plt.plot(x_line, y_line, color='red', label='Linear regression')\n",
    "plt.xlabel('Radio Budget')\n",
    "plt.ylabel('Sales')\n",
    "plt.legend()\n",
    "plt.title('Linear Regression on Radio vs Sales')\n",
    "plt.show()\n",
    "\n",
    "print(\"\\n\")\n",
    "## Test Prediction\n",
    "def predict(x,w,b):\n",
    "    prediction = w*x + b\n",
    "    print(f'Input of {x} has a predicted output of {prediction}')\n",
    "    return prediction\n",
    "\n",
    "\n",
    "w, b = train(spendings, sales, 0.0, 0.0, 0.001, 15000)\n",
    "x = 23.0\n",
    "y = predict(x,w,b)\n",
    "\"\"\""
   ]
  },
  {
   "cell_type": "code",
   "execution_count": null,
   "id": "b2d736b4",
   "metadata": {},
   "outputs": [],
   "source": []
  }
 ],
 "metadata": {
  "kernelspec": {
   "display_name": "Python 3",
   "language": "python",
   "name": "python3"
  },
  "language_info": {
   "codemirror_mode": {
    "name": "ipython",
    "version": 3
   },
   "file_extension": ".py",
   "mimetype": "text/x-python",
   "name": "python",
   "nbconvert_exporter": "python",
   "pygments_lexer": "ipython3",
   "version": "3.9.6"
  }
 },
 "nbformat": 4,
 "nbformat_minor": 5
}
