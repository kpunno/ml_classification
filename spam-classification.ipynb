{
 "cells": [
  {
   "cell_type": "code",
   "execution_count": 2,
   "id": "d7982708-bda0-4a8d-a309-a7a37de4356a",
   "metadata": {},
   "outputs": [
    {
     "name": "stdout",
     "output_type": "stream",
     "text": [
      "./data_sets/train/spam : 500\n",
      "10487 words in collection.\n",
      "./data_sets/train/ham : 2501\n",
      "26912 words in collection.\n",
      "[('localhost', {'spam_count': 475, 'ham_count': 2362}), ('deliveredto', {'spam_count': 474, 'ham_count': 2365}), ('contenttype', {'spam_count': 466, 'ham_count': 2131}), ('mimeversion', {'spam_count': 427, 'ham_count': 1499}), ('dogmaslashnullorg', {'spam_count': 356, 'ham_count': 2358}), ('smtp', {'spam_count': 356, 'ham_count': 792}), ('imap', {'spam_count': 351, 'ham_count': 2365}), ('contenttransferencoding', {'spam_count': 344, 'ham_count': 966}), ('sep', {'spam_count': 321, 'ham_count': 1310}), ('email', {'spam_count': 282, 'ham_count': 590}), ('jalapeno', {'spam_count': 263, 'ham_count': 1862}), ('please', {'spam_count': 260, 'ham_count': 217}), ('xmailer', {'spam_count': 259, 'ham_count': 825}), ('zzzzasonorg', {'spam_count': 252, 'ham_count': 0}), ('webnotenet', {'spam_count': 231, 'ham_count': 0}), ('replyto', {'spam_count': 229, 'ham_count': 687}), ('list', {'spam_count': 217, 'ham_count': 1156}), ('free', {'spam_count': 202, 'ham_count': 313}), ('phoboslabsspamassassintaintorg', {'spam_count': 202, 'ham_count': 0}), ('aug', {'spam_count': 197, 'ham_count': 473}), ('microsoft', {'spam_count': 191, 'ham_count': 346}), ('mon', {'spam_count': 178, 'ham_count': 744}), ('mail', {'spam_count': 178, 'ham_count': 380}), ('information', {'spam_count': 177, 'ham_count': 207}), ('service', {'spam_count': 172, 'ham_count': 191}), ('get', {'spam_count': 171, 'ham_count': 700}), ('xpriority', {'spam_count': 166, 'ham_count': 305}), ('one', {'spam_count': 165, 'ham_count': 640}), ('new', {'spam_count': 160, 'ham_count': 579}), ('us', {'spam_count': 157, 'ham_count': 278}), ('message', {'spam_count': 155, 'ham_count': 671}), ('click', {'spam_count': 148, 'ham_count': 0}), ('time', {'spam_count': 148, 'ham_count': 507}), ('receive', {'spam_count': 147, 'ham_count': 0}), ('quotedprintable', {'spam_count': 143, 'ham_count': 0}), ('internet', {'spam_count': 140, 'ham_count': 161}), ('wish', {'spam_count': 139, 'ham_count': 0}), ('fri', {'spam_count': 133, 'ham_count': 484}), ('sender', {'spam_count': 125, 'ham_count': 1504}), ('tue', {'spam_count': 124, 'ham_count': 626}), ('outlook', {'spam_count': 124, 'ham_count': 289}), ('thu', {'spam_count': 123, 'ham_count': 711}), ('want', {'spam_count': 121, 'ham_count': 303}), ('removed', {'spam_count': 121, 'ham_count': 0}), ('go', {'spam_count': 120, 'ham_count': 276}), ('wed', {'spam_count': 116, 'ham_count': 667}), ('mailwebnotenet', {'spam_count': 115, 'ham_count': 0}), ('money', {'spam_count': 115, 'ham_count': 0}), ('form', {'spam_count': 112, 'ham_count': 0}), ('business', {'spam_count': 112, 'ham_count': 134}), ('xmsmailpriority', {'spam_count': 111, 'ham_count': 240}), ('normal', {'spam_count': 110, 'ham_count': 304}), ('company', {'spam_count': 110, 'ham_count': 0}), ('may', {'spam_count': 107, 'ham_count': 321}), ('address', {'spam_count': 107, 'ham_count': 0}), ('like', {'spam_count': 106, 'ham_count': 653}), ('need', {'spam_count': 103, 'ham_count': 278}), ('name', {'spam_count': 102, 'ham_count': 0}), ('best', {'spam_count': 102, 'ham_count': 185}), ('cc', {'spam_count': 101, 'ham_count': 546}), ('express', {'spam_count': 100, 'ham_count': 140}), ('also', {'spam_count': 98, 'ham_count': 417}), ('send', {'spam_count': 98, 'ham_count': 225}), ('reply', {'spam_count': 97, 'ham_count': 0}), ('mailing', {'spam_count': 94, 'ham_count': 888}), ('help', {'spam_count': 92, 'ham_count': 168}), (\"don't\", {'spam_count': 91, 'ham_count': 562}), ('use', {'spam_count': 91, 'ham_count': 692}), ('offer', {'spam_count': 90, 'ham_count': 0}), ('make', {'spam_count': 90, 'ham_count': 355}), ('remove', {'spam_count': 90, 'ham_count': 0}), ('would', {'spam_count': 90, 'ham_count': 582}), ('contact', {'spam_count': 90, 'ham_count': 186}), ('sent', {'spam_count': 88, 'ham_count': 198}), ('today', {'spam_count': 88, 'ham_count': 129}), ('phobos', {'spam_count': 88, 'ham_count': 496}), ('link', {'spam_count': 87, 'ham_count': 0}), ('sat', {'spam_count': 86, 'ham_count': 239}), ('bulk', {'spam_count': 86, 'ham_count': 1624}), ('take', {'spam_count': 83, 'ham_count': 218}), ('importance', {'spam_count': 83, 'ham_count': 151}), ('helvetica', {'spam_count': 82, 'ham_count': 0}), ('future', {'spam_count': 82, 'ham_count': 0}), ('million', {'spam_count': 80, 'ham_count': 0}), ('online', {'spam_count': 77, 'ham_count': 0}), ('special', {'spam_count': 76, 'ham_count': 0}), ('fill', {'spam_count': 75, 'ham_count': 0}), ('order', {'spam_count': 74, 'ham_count': 0}), ('precedence', {'spam_count': 74, 'ham_count': 1698}), ('pay', {'spam_count': 74, 'ham_count': 0}), ('people', {'spam_count': 74, 'ham_count': 409}), ('offers', {'spam_count': 74, 'ham_count': 0}), ('listid', {'spam_count': 72, 'ham_count': 1496}), ('windows', {'spam_count': 72, 'ham_count': 139}), ('day', {'spam_count': 71, 'ham_count': 158}), ('know', {'spam_count': 71, 'ham_count': 384}), ('home', {'spam_count': 71, 'ham_count': 0}), ('state', {'spam_count': 70, 'ham_count': 0}), ('sun', {'spam_count': 70, 'ham_count': 256}), ('call', {'spam_count': 70, 'ham_count': 0}), ('must', {'spam_count': 70, 'ham_count': 0}), ('price', {'spam_count': 69, 'ham_count': 0}), ('produced', {'spam_count': 69, 'ham_count': 275}), ('phone', {'spam_count': 69, 'ham_count': 0}), ('errorsto', {'spam_count': 69, 'ham_count': 1467}), ('see', {'spam_count': 68, 'ham_count': 372}), ('unsubscribe', {'spam_count': 68, 'ham_count': 137}), ('exchange', {'spam_count': 68, 'ham_count': 0}), ('work', {'spam_count': 67, 'ham_count': 309}), ('xoriginalarrivaltime', {'spam_count': 67, 'ham_count': 0}), ('mimeole', {'spam_count': 67, 'ham_count': 238}), ('version', {'spam_count': 67, 'ham_count': 377}), ('xmimeole', {'spam_count': 67, 'ham_count': 254}), ('find', {'spam_count': 66, 'ham_count': 254}), ('great', {'spam_count': 66, 'ham_count': 165}), ('much', {'spam_count': 66, 'ham_count': 323}), ('within', {'spam_count': 66, 'ham_count': 0}), ('unknown', {'spam_count': 65, 'ham_count': 261}), ('xbeenthere', {'spam_count': 64, 'ham_count': 1466}), ('never', {'spam_count': 64, 'ham_count': 179}), ('following', {'spam_count': 64, 'ham_count': 0}), ('xmailmanversion', {'spam_count': 64, 'ham_count': 1466}), ('even', {'spam_count': 63, 'ham_count': 358}), ('line', {'spam_count': 63, 'ham_count': 180}), ('format', {'spam_count': 63, 'ham_count': 0}), ('emails', {'spam_count': 63, 'ham_count': 0}), ('legal', {'spam_count': 62, 'ham_count': 0}), ('days', {'spam_count': 62, 'ham_count': 0}), ('available', {'spam_count': 61, 'ham_count': 0}), ('financial', {'spam_count': 61, 'ham_count': 0}), ('buy', {'spam_count': 61, 'ham_count': 0}), ('made', {'spam_count': 61, 'ham_count': 187}), ('visit', {'spam_count': 60, 'ham_count': 0}), ('receiving', {'spam_count': 60, 'ham_count': 0}), ('error', {'spam_count': 59, 'ham_count': 0}), ('marketing', {'spam_count': 59, 'ham_count': 0}), ('mime', {'spam_count': 59, 'ham_count': 0}), ('give', {'spam_count': 59, 'ham_count': 197}), ('web', {'spam_count': 59, 'ham_count': 138}), ('year', {'spam_count': 59, 'ham_count': 0}), (\"it's\", {'spam_count': 58, 'ham_count': 540}), ('mailings', {'spam_count': 58, 'ham_count': 0}), ('right', {'spam_count': 58, 'ham_count': 224}), ('hours', {'spam_count': 58, 'ham_count': 0}), ('investment', {'spam_count': 58, 'ham_count': 0}), ('required', {'spam_count': 57, 'ham_count': 0}), ('years', {'spam_count': 57, 'ham_count': 213}), ('private', {'spam_count': 57, 'ham_count': 0}), ('life', {'spam_count': 57, 'ham_count': 0}), ('software', {'spam_count': 56, 'ham_count': 171}), ('number', {'spam_count': 56, 'ham_count': 149}), ('low', {'spam_count': 56, 'ham_count': 0}), ('save', {'spam_count': 56, 'ham_count': 0}), ('irish', {'spam_count': 56, 'ham_count': 0}), ('group', {'spam_count': 55, 'ham_count': 337}), ('multipart', {'spam_count': 55, 'ham_count': 0}), ('every', {'spam_count': 55, 'ham_count': 182}), ('access', {'spam_count': 55, 'ham_count': 0}), ('public', {'spam_count': 55, 'ham_count': 0}), ('site', {'spam_count': 55, 'ham_count': 0}), ('simple', {'spam_count': 54, 'ham_count': 0}), ('ad', {'spam_count': 54, 'ham_count': 0}), ('first', {'spam_count': 54, 'ham_count': 346}), ('could', {'spam_count': 54, 'ham_count': 403}), ('easy', {'spam_count': 54, 'ham_count': 142}), ('without', {'spam_count': 53, 'ham_count': 209}), ('include', {'spam_count': 53, 'ham_count': 0}), ('risk', {'spam_count': 53, 'ham_count': 0}), ('dear', {'spam_count': 53, 'ham_count': 0}), ('allow', {'spam_count': 52, 'ham_count': 0}), ('well', {'spam_count': 52, 'ham_count': 305}), ('way', {'spam_count': 52, 'ham_count': 391}), ('personal', {'spam_count': 51, 'ham_count': 0}), ('services', {'spam_count': 51, 'ham_count': 0}), ('opportunity', {'spam_count': 51, 'ham_count': 0}), ('per', {'spam_count': 51, 'ham_count': 0}), ('arial', {'spam_count': 50, 'ham_count': 0}), ('insurance', {'spam_count': 50, 'ham_count': 0}), ('keep', {'spam_count': 50, 'ham_count': 152}), ('using', {'spam_count': 50, 'ham_count': 407}), ('simply', {'spam_count': 50, 'ham_count': 0}), ('linux', {'spam_count': 50, 'ham_count': 288}), ('program', {'spam_count': 50, 'ham_count': 0}), ('next', {'spam_count': 49, 'ham_count': 167}), ('computer', {'spam_count': 49, 'ham_count': 0}), ('sites', {'spam_count': 49, 'ham_count': 0}), ('interest', {'spam_count': 49, 'ham_count': 0}), ('last', {'spam_count': 49, 'ham_count': 220}), (\"users'\", {'spam_count': 49, 'ham_count': 0}), ('thank', {'spam_count': 49, 'ham_count': 0}), ('maintainer', {'spam_count': 49, 'ham_count': 0}), ('lughtuathaorg', {'spam_count': 49, 'ham_count': 0}), ('guaranteed', {'spam_count': 48, 'ham_count': 0}), ('fax', {'spam_count': 48, 'ham_count': 0}), ('month', {'spam_count': 48, 'ham_count': 0}), ('deal', {'spam_count': 47, 'ham_count': 0}), ('provide', {'spam_count': 47, 'ham_count': 0}), ('companies', {'spam_count': 47, 'ham_count': 0}), ('start', {'spam_count': 47, 'ham_count': 0}), ('cash', {'spam_count': 47, 'ham_count': 0}), ('removal', {'spam_count': 46, 'ham_count': 0}), ('put', {'spam_count': 45, 'ham_count': 174}), ('dollars', {'spam_count': 45, 'ham_count': 0}), ('professional', {'spam_count': 45, 'ham_count': 0}), ('products', {'spam_count': 45, 'ham_count': 0}), ('city', {'spam_count': 45, 'ham_count': 0}), ('many', {'spam_count': 44, 'ham_count': 269}), ('market', {'spam_count': 44, 'ham_count': 0}), ('account', {'spam_count': 44, 'ham_count': 0}), ('full', {'spam_count': 44, 'ham_count': 0}), ('anyone', {'spam_count': 44, 'ham_count': 206}), ('limited', {'spam_count': 44, 'ham_count': 0}), ('good', {'spam_count': 44, 'ham_count': 327}), ('thousands', {'spam_count': 44, 'ham_count': 0}), ('back', {'spam_count': 43, 'ham_count': 227}), ('long', {'spam_count': 43, 'ham_count': 193}), ('system', {'spam_count': 43, 'ham_count': 236}), ('income', {'spam_count': 42, 'ham_count': 0}), ('listsubscribe', {'spam_count': 42, 'ham_count': 1445}), ('listhelp', {'spam_count': 42, 'ham_count': 1442}), ('listarchive', {'spam_count': 42, 'ham_count': 1397}), ('via', {'spam_count': 42, 'ham_count': 0}), ('two', {'spam_count': 42, 'ham_count': 258}), (\"you'll\", {'spam_count': 42, 'ham_count': 0}), ('bank', {'spam_count': 42, 'ham_count': 0}), ('currently', {'spam_count': 42, 'ham_count': 0}), ('high', {'spam_count': 42, 'ham_count': 0}), ('listunsubscribe', {'spam_count': 42, 'ham_count': 1573}), ('current', {'spam_count': 42, 'ham_count': 138}), ('old', {'spam_count': 42, 'ham_count': 260}), ('country', {'spam_count': 42, 'ham_count': 0}), ('product', {'spam_count': 41, 'ham_count': 0}), ('threadindex', {'spam_count': 41, 'ham_count': 0}), ('credit', {'spam_count': 41, 'ham_count': 0}), ('assistance', {'spam_count': 41, 'ham_count': 0}), ('cdo', {'spam_count': 41, 'ham_count': 0}), ('member', {'spam_count': 41, 'ham_count': 0}), ('urncontentclassesmessage', {'spam_count': 41, 'ham_count': 0}), ('notice', {'spam_count': 41, 'ham_count': 0}), ('contentclass', {'spam_count': 41, 'ham_count': 0}), ('ever', {'spam_count': 40, 'ham_count': 127}), ('government', {'spam_count': 40, 'ham_count': 0}), ('making', {'spam_count': 40, 'ham_count': 0}), ('rate', {'spam_count': 40, 'ham_count': 0}), ('request', {'spam_count': 40, 'ham_count': 0}), ('communication', {'spam_count': 39, 'ham_count': 0}), ('instead', {'spam_count': 39, 'ham_count': 151}), ('got', {'spam_count': 39, 'ham_count': 245}), ('less', {'spam_count': 39, 'ham_count': 157}), ('sending', {'spam_count': 39, 'ham_count': 0}), ('since', {'spam_count': 39, 'ham_count': 261}), ('family', {'spam_count': 39, 'ham_count': 0}), ('html', {'spam_count': 39, 'ham_count': 0}), ('united', {'spam_count': 39, 'ham_count': 0}), ('cost', {'spam_count': 39, 'ham_count': 0}), ('states', {'spam_count': 38, 'ham_count': 0}), ('plan', {'spam_count': 38, 'ham_count': 0}), ('support', {'spam_count': 38, 'ham_count': 128}), ('includes', {'spam_count': 38, 'ham_count': 0}), ('easily', {'spam_count': 38, 'ham_count': 0}), ('little', {'spam_count': 37, 'ham_count': 129}), ('world', {'spam_count': 37, 'ham_count': 226}), ('sure', {'spam_count': 37, 'ham_count': 250}), ('build', {'spam_count': 37, 'ham_count': 269}), ('purchase', {'spam_count': 37, 'ham_count': 0}), ('general', {'spam_count': 37, 'ham_count': 0}), ('change', {'spam_count': 36, 'ham_count': 210}), ('learn', {'spam_count': 36, 'ham_count': 0}), ('immediately', {'spam_count': 36, 'ham_count': 0}), ('value', {'spam_count': 36, 'ham_count': 0}), ('registered', {'spam_count': 36, 'ham_count': 0}), ('week', {'spam_count': 36, 'ham_count': 0}), ('quick', {'spam_count': 36, 'ham_count': 0}), ('absolutely', {'spam_count': 36, 'ham_count': 0}), ('around', {'spam_count': 36, 'ham_count': 161}), ('control', {'spam_count': 36, 'ham_count': 0}), ('used', {'spam_count': 36, 'ham_count': 263}), ('fund', {'spam_count': 36, 'ham_count': 0}), ('rates', {'spam_count': 35, 'ham_count': 0}), ('better', {'spam_count': 35, 'ham_count': 209}), ('valuable', {'spam_count': 35, 'ham_count': 0}), ('come', {'spam_count': 35, 'ham_count': 152}), ('instructions', {'spam_count': 35, 'ham_count': 0}), ('re', {'spam_count': 35, 'ham_count': 1243}), ('code', {'spam_count': 35, 'ham_count': 164}), ('host', {'spam_count': 35, 'ham_count': 0}), ('hundreds', {'spam_count': 35, 'ham_count': 0}), ('true', {'spam_count': 35, 'ham_count': 0}), ('optin', {'spam_count': 35, 'ham_count': 0}), ('news', {'spam_count': 35, 'ham_count': 0}), ('yes', {'spam_count': 35, 'ham_count': 153}), ('questions', {'spam_count': 34, 'ham_count': 0}), ('look', {'spam_count': 34, 'ham_count': 213}), ('sales', {'spam_count': 34, 'ham_count': 0}), ('prices', {'spam_count': 34, 'ham_count': 0}), ('listpost', {'spam_count': 34, 'ham_count': 1442}), ('based', {'spam_count': 34, 'ham_count': 0}), ('party', {'spam_count': 34, 'ham_count': 0}), (\"that's\", {'spam_count': 34, 'ham_count': 266}), ('ready', {'spam_count': 34, 'ham_count': 0}), ('secure', {'spam_count': 34, 'ham_count': 0}), ('security', {'spam_count': 34, 'ham_count': 0}), ('direct', {'spam_count': 34, 'ham_count': 0}), ('transfer', {'spam_count': 34, 'ham_count': 0}), ('past', {'spam_count': 33, 'ham_count': 0}), ('website', {'spam_count': 33, 'ham_count': 0}), ('looking', {'spam_count': 33, 'ham_count': 0}), ('sell', {'spam_count': 33, 'ham_count': 0}), ('important', {'spam_count': 33, 'ham_count': 0}), ('working', {'spam_count': 33, 'ham_count': 168}), ('report', {'spam_count': 33, 'ham_count': 138}), ('still', {'spam_count': 33, 'ham_count': 326}), ('act', {'spam_count': 33, 'ham_count': 0}), ('guarantee', {'spam_count': 33, 'ham_count': 0}), ('possible', {'spam_count': 33, 'ham_count': 0}), ('claimed', {'spam_count': 33, 'ham_count': 0}), ('understand', {'spam_count': 33, 'ham_count': 0}), ('anything', {'spam_count': 32, 'ham_count': 182}), ('protect', {'spam_count': 32, 'ham_count': 0}), ('transaction', {'spam_count': 32, 'ham_count': 0}), ('always', {'spam_count': 32, 'ham_count': 133}), ('top', {'spam_count': 32, 'ham_count': 0}), ('feel', {'spam_count': 32, 'ham_count': 0}), ('xauthenticationwarning', {'spam_count': 32, 'ham_count': 136}), ('lose', {'spam_count': 32, 'ham_count': 0}), ('believe', {'spam_count': 32, 'ham_count': 0}), ('place', {'spam_count': 32, 'ham_count': 148}), ('let', {'spam_count': 32, 'ham_count': 0}), ('office', {'spam_count': 32, 'ham_count': 0}), ('read', {'spam_count': 32, 'ham_count': 156}), ('nothing', {'spam_count': 32, 'ham_count': 138}), ('quality', {'spam_count': 32, 'ham_count': 0}), ('approved', {'spam_count': 32, 'ham_count': 0}), ('professionals', {'spam_count': 32, 'ham_count': 0}), ('response', {'spam_count': 32, 'ham_count': 0}), ('mortgage', {'spam_count': 32, 'ham_count': 0}), ('addresses', {'spam_count': 32, 'ham_count': 0}), ('part', {'spam_count': 32, 'ham_count': 148}), ('retail', {'spam_count': 31, 'ham_count': 0}), ('times', {'spam_count': 31, 'ham_count': 139}), ('due', {'spam_count': 31, 'ham_count': 0}), ('paid', {'spam_count': 31, 'ham_count': 0}), ('unsolicited', {'spam_count': 31, 'ham_count': 0}), ('sum', {'spam_count': 31, 'ham_count': 0}), ('info', {'spam_count': 31, 'ham_count': 0}), ('frontpage', {'spam_count': 30, 'ham_count': 0}), ('tell', {'spam_count': 30, 'ham_count': 132}), ('data', {'spam_count': 30, 'ham_count': 150}), ('real', {'spam_count': 30, 'ham_count': 177}), ('think', {'spam_count': 30, 'ham_count': 407}), ('note', {'spam_count': 30, 'ham_count': 0}), ('claim', {'spam_count': 30, 'ham_count': 0}), ('database', {'spam_count': 30, 'ham_count': 0}), ('lugh', {'spam_count': 30, 'ham_count': 0}), ('pickup', {'spam_count': 29, 'ham_count': 0}), ('body', {'spam_count': 29, 'ham_count': 0}), ('numbers', {'spam_count': 29, 'ham_count': 0}), ('months', {'spam_count': 29, 'ham_count': 0}), ('total', {'spam_count': 29, 'ham_count': 0}), ('share', {'spam_count': 29, 'ham_count': 0}), ('lowest', {'spam_count': 29, 'ham_count': 0}), ('card', {'spam_count': 29, 'ham_count': 0}), ('large', {'spam_count': 29, 'ham_count': 0}), ('deliverydate', {'spam_count': 29, 'ham_count': 135}), ('huge', {'spam_count': 29, 'ham_count': 0}), ('going', {'spam_count': 29, 'ham_count': 194}), ('advertising', {'spam_count': 29, 'ham_count': 0}), ('profitable', {'spam_count': 29, 'ham_count': 0}), ('amount', {'spam_count': 29, 'ham_count': 0}), ('interested', {'spam_count': 29, 'ham_count': 0}), ('follow', {'spam_count': 29, 'ham_count': 0}), ('live', {'spam_count': 29, 'ham_count': 0}), (\"you're\", {'spam_count': 29, 'ham_count': 197}), ('xstatus', {'spam_count': 29, 'ham_count': 0}), ('increase', {'spam_count': 29, 'ham_count': 0}), ('independent', {'spam_count': 29, 'ham_count': 0}), ('xkeywords', {'spam_count': 29, 'ham_count': 0}), ('already', {'spam_count': 28, 'ham_count': 133}), ('try', {'spam_count': 28, 'ham_count': 241}), ('finally', {'spam_count': 28, 'ham_count': 0}), ('names', {'spam_count': 28, 'ham_count': 0}), ('check', {'spam_count': 28, 'ham_count': 138}), ('invoked', {'spam_count': 28, 'ham_count': 476}), ('position', {'spam_count': 28, 'ham_count': 0}), ('answer', {'spam_count': 28, 'ham_count': 0}), ('spam', {'spam_count': 28, 'ham_count': 227}), ('xvirusscanned', {'spam_count': 28, 'ham_count': 0}), ('different', {'spam_count': 28, 'ham_count': 191}), ('copy', {'spam_count': 28, 'ham_count': 0}), ('another', {'spam_count': 28, 'ham_count': 242}), ('unsubscribed', {'spam_count': 28, 'ham_count': 0}), ('six', {'spam_count': 28, 'ham_count': 0}), ('pm', {'spam_count': 28, 'ham_count': 164}), ('longer', {'spam_count': 28, 'ham_count': 0}), ('subscribed', {'spam_count': 28, 'ham_count': 0}), ('assist', {'spam_count': 28, 'ham_count': 0}), ('programs', {'spam_count': 28, 'ham_count': 0}), ('five', {'spam_count': 28, 'ham_count': 0}), ('become', {'spam_count': 28, 'ham_count': 0}), ('experience', {'spam_count': 27, 'ham_count': 0}), ('including', {'spam_count': 27, 'ham_count': 0}), ('seen', {'spam_count': 27, 'ham_count': 130}), ('join', {'spam_count': 27, 'ham_count': 0}), ('matter', {'spam_count': 27, 'ham_count': 0}), ('search', {'spam_count': 27, 'ham_count': 0}), ('age', {'spam_count': 27, 'ham_count': 0}), ('millions', {'spam_count': 27, 'ham_count': 0}), ('accept', {'spam_count': 27, 'ham_count': 0}), ('xmimeautoconverted', {'spam_count': 27, 'ham_count': 0}), ('sincerely', {'spam_count': 27, 'ham_count': 0}), ('late', {'spam_count': 27, 'ham_count': 0}), ('fact', {'spam_count': 27, 'ham_count': 0}), ('track', {'spam_count': 27, 'ham_count': 0}), ('said', {'spam_count': 27, 'ham_count': 305}), ('complete', {'spam_count': 27, 'ham_count': 0}), ('later', {'spam_count': 27, 'ham_count': 0}), ('xoriginaldate', {'spam_count': 27, 'ham_count': 553}), ('amavisdmilter', {'spam_count': 27, 'ham_count': 0}), ('leramilerctrorg', {'spam_count': 27, 'ham_count': 0}), ('smtpeasydnscom', {'spam_count': 27, 'ham_count': 0}), ('entire', {'spam_count': 26, 'ham_count': 0}), ('waiting', {'spam_count': 26, 'ham_count': 0}), ('manager', {'spam_count': 26, 'ham_count': 0}), ('earn', {'spam_count': 26, 'ham_count': 0}), ('immediate', {'spam_count': 26, 'ham_count': 0}), ('reach', {'spam_count': 26, 'ham_count': 0}), ('run', {'spam_count': 26, 'ham_count': 234}), ('forward', {'spam_count': 26, 'ham_count': 0}), ('fontfamily', {'spam_count': 26, 'ham_count': 0}), ('person', {'spam_count': 26, 'ham_count': 0}), ('word', {'spam_count': 26, 'ham_count': 0}), ('weeks', {'spam_count': 26, 'ham_count': 0}), ('successful', {'spam_count': 26, 'ham_count': 0}), ('fast', {'spam_count': 26, 'ham_count': 0}), ('cannot', {'spam_count': 26, 'ham_count': 0}), ('actually', {'spam_count': 26, 'ham_count': 194}), ('growing', {'spam_count': 26, 'ham_count': 0}), ('color', {'spam_count': 25, 'ham_count': 0}), ('show', {'spam_count': 25, 'ham_count': 0}), ('second', {'spam_count': 25, 'ham_count': 0}), ('opportunities', {'spam_count': 25, 'ham_count': 0}), ('however', {'spam_count': 25, 'ham_count': 138}), ('net', {'spam_count': 25, 'ham_count': 0}), ('reason', {'spam_count': 25, 'ham_count': 0}), ('move', {'spam_count': 25, 'ham_count': 0}), ('regards', {'spam_count': 25, 'ham_count': 0}), ('found', {'spam_count': 25, 'ham_count': 441}), ('federal', {'spam_count': 25, 'ham_count': 0}), ('away', {'spam_count': 25, 'ham_count': 0}), ('individuals', {'spam_count': 25, 'ham_count': 0}), ('fortune', {'spam_count': 25, 'ham_count': 0}), ('works', {'spam_count': 25, 'ham_count': 138}), ('customer', {'spam_count': 25, 'ham_count': 0}), ('friend', {'spam_count': 25, 'ham_count': 0}), ('sir', {'spam_count': 25, 'ham_count': 0}), ('shipping', {'spam_count': 25, 'ham_count': 0}), ('telephone', {'spam_count': 25, 'ham_count': 0}), ('khare', {'spam_count': 0, 'ham_count': 666}), (\"i'll\", {'spam_count': 0, 'ham_count': 194}), ('xegroupsreturn', {'spam_count': 0, 'ham_count': 127}), ('begin', {'spam_count': 0, 'ham_count': 130}), ('spamassassintaintorg', {'spam_count': 0, 'ham_count': 146}), ('sponsored', {'spam_count': 0, 'ham_count': 266}), ('welcome', {'spam_count': 0, 'ham_count': 132}), ('seem', {'spam_count': 0, 'ham_count': 133}), ('oct', {'spam_count': 0, 'ham_count': 727}), (\"doesn't\", {'spam_count': 0, 'ham_count': 260}), (\"isn't\", {'spam_count': 0, 'ham_count': 167}), ('url', {'spam_count': 0, 'ham_count': 648}), ('big', {'spam_count': 0, 'ham_count': 137}), (\"i've\", {'spam_count': 0, 'ham_count': 329}), ('trying', {'spam_count': 0, 'ham_count': 165}), ('talk', {'spam_count': 0, 'ham_count': 179}), ('set', {'spam_count': 0, 'ham_count': 232}), ('enough', {'spam_count': 0, 'ham_count': 152}), ('esmtp', {'spam_count': 0, 'ham_count': 2366}), (\"i'm\", {'spam_count': 0, 'ham_count': 468}), ('gmt', {'spam_count': 0, 'ham_count': 195}), ('yet', {'spam_count': 0, 'ham_count': 134}), ('xentcom', {'spam_count': 0, 'ham_count': 666}), ('spamassassin', {'spam_count': 0, 'ham_count': 235}), ('things', {'spam_count': 0, 'ham_count': 214}), ('running', {'spam_count': 0, 'ham_count': 192}), ('someone', {'spam_count': 0, 'ham_count': 188}), ('open', {'spam_count': 0, 'ham_count': 146}), ('listmanredhatcom', {'spam_count': 0, 'ham_count': 162}), ('network', {'spam_count': 0, 'ham_count': 141}), ('else', {'spam_count': 0, 'ham_count': 151}), ('idea', {'spam_count': 0, 'ham_count': 140}), ('quite', {'spam_count': 0, 'ham_count': 129}), ('end', {'spam_count': 0, 'ham_count': 240}), ('thanks', {'spam_count': 0, 'ham_count': 183}), ('lot', {'spam_count': 0, 'ham_count': 153}), ('case', {'spam_count': 0, 'ham_count': 181}), ('tried', {'spam_count': 0, 'ham_count': 128}), ('xapparentlyto', {'spam_count': 0, 'ham_count': 127}), ('lairxentcom', {'spam_count': 0, 'ham_count': 666}), ('uid', {'spam_count': 0, 'ham_count': 166}), ('id', {'spam_count': 0, 'ham_count': 2366}), ('clean', {'spam_count': 0, 'ham_count': 294}), ('listmanspamassassintaintorg', {'spam_count': 0, 'ham_count': 162}), ('getting', {'spam_count': 0, 'ham_count': 174}), ('xacceptlanguage', {'spam_count': 0, 'ham_count': 172}), ('rpmlist', {'spam_count': 0, 'ham_count': 247}), ('either', {'spam_count': 0, 'ham_count': 132}), ('thought', {'spam_count': 0, 'ham_count': 134}), ('xloop', {'spam_count': 0, 'ham_count': 179}), ('cell', {'spam_count': 0, 'ham_count': 135}), ('organization', {'spam_count': 0, 'ham_count': 279}), ('problems', {'spam_count': 0, 'ham_count': 144}), (\"i'd\", {'spam_count': 0, 'ham_count': 212}), ('least', {'spam_count': 0, 'ham_count': 149}), ('useragent', {'spam_count': 0, 'ham_count': 316}), ('really', {'spam_count': 0, 'ham_count': 302}), ('developers', {'spam_count': 0, 'ham_count': 140}), ('en', {'spam_count': 0, 'ham_count': 158}), ('inreplyto', {'spam_count': 0, 'ham_count': 1019}), ('rpm', {'spam_count': 0, 'ham_count': 259}), ('references', {'spam_count': 0, 'ham_count': 793}), ('freshrpms', {'spam_count': 0, 'ham_count': 247}), ('source', {'spam_count': 0, 'ham_count': 148}), ('problem', {'spam_count': 0, 'ham_count': 282}), ('say', {'spam_count': 0, 'ham_count': 235}), ('file', {'spam_count': 0, 'ham_count': 224}), ('discussion', {'spam_count': 0, 'ham_count': 447}), ('example', {'spam_count': 0, 'ham_count': 129}), ('users', {'spam_count': 0, 'ham_count': 182}), ('fork', {'spam_count': 0, 'ham_count': 134}), ('point', {'spam_count': 0, 'ham_count': 184}), ('groups', {'spam_count': 0, 'ham_count': 165}), ('phoboslabsnetnoteinccom', {'spam_count': 0, 'ham_count': 496}), ('exmh', {'spam_count': 0, 'ham_count': 163}), ('files', {'spam_count': 0, 'ham_count': 174}), ('course', {'spam_count': 0, 'ham_count': 149}), ('jmasonorg', {'spam_count': 0, 'ham_count': 1745}), ('maybe', {'spam_count': 0, 'ham_count': 160}), ('rohit', {'spam_count': 0, 'ham_count': 666}), ('matthias', {'spam_count': 0, 'ham_count': 139}), ('far', {'spam_count': 0, 'ham_count': 143}), ('thing', {'spam_count': 0, 'ham_count': 191}), ('inline', {'spam_count': 0, 'ham_count': 156}), ('r', {'spam_count': 0, 'ham_count': 128}), ('stuff', {'spam_count': 0, 'ham_count': 158}), ('friends', {'spam_count': 0, 'ham_count': 682}), ('yahoo', {'spam_count': 0, 'ham_count': 156}), ('something', {'spam_count': 0, 'ham_count': 301}), ('though', {'spam_count': 0, 'ham_count': 165}), ('might', {'spam_count': 0, 'ham_count': 221}), ('messages', {'spam_count': 0, 'ham_count': 225}), ('xmailscanner', {'spam_count': 0, 'ham_count': 213}), ('probably', {'spam_count': 0, 'ham_count': 219}), ('wrote', {'spam_count': 0, 'ham_count': 752}), ('writes', {'spam_count': 0, 'ham_count': 167}), ('userid', {'spam_count': 0, 'ham_count': 263}), ('bit', {'spam_count': 0, 'ham_count': 128}), ('sfnet', {'spam_count': 0, 'ham_count': 260}), (\"there's\", {'spam_count': 0, 'ham_count': 175}), (\"didn't\", {'spam_count': 0, 'ham_count': 178}), ('done', {'spam_count': 0, 'ham_count': 160}), ('page', {'spam_count': 0, 'ham_count': 142}), ('test', {'spam_count': 0, 'ham_count': 138}), ('supplied', {'spam_count': 0, 'ham_count': 218}), ('seems', {'spam_count': 0, 'ham_count': 204}), (\"can't\", {'spam_count': 0, 'ham_count': 262}), ('september', {'spam_count': 0, 'ham_count': 180}), ('original', {'spam_count': 0, 'ham_count': 207}), ('server', {'spam_count': 0, 'ham_count': 173}), ('saou', {'spam_count': 0, 'ham_count': 126}), ('egwnnet', {'spam_count': 0, 'ham_count': 203}), ('contentdisposition', {'spam_count': 0, 'ham_count': 164}), ('user', {'spam_count': 0, 'ham_count': 161}), ('add', {'spam_count': 0, 'ham_count': 160}), ('xsender', {'spam_count': 0, 'ham_count': 191}), ('copyright', {'spam_count': 0, 'ham_count': 141}), ('spamassassintalk', {'spam_count': 0, 'ham_count': 132}), ('mailinglist', {'spam_count': 0, 'ham_count': 158})]\n"
     ]
    }
   ],
   "source": [
    "from file_processing import build_dictionary, get_files_count, print_portion\n",
    "from word_processing import remove_words_above_threshold_count, remove_words_below_threshold_count\n",
    "# from probabilities import ...\n",
    "\n",
    "bag_of_words_spam = build_dictionary(\"train/spam\")\n",
    "bag_of_words_ham = build_dictionary(\"train/ham\")\n",
    "total_files = get_files_count(\"train/spam\") + get_files_count(\"train/ham\")\n",
    "total_vocab = dict(set(bag_of_words_spam.items()) | set(bag_of_words_ham.items()))\n",
    "total_words = (len(total_vocab))\n",
    "combined_bag={}\n",
    "for word in total_vocab:\n",
    "    combined_bag[word] = {\"spam_count\" : bag_of_words_spam.get(word, 0), \"ham_count\" : bag_of_words_ham.get(word, 0)}\n",
    "\n",
    "sorted_combined_bag = sorted(combined_bag.items(), key=lambda item: item[1][\"spam_count\"], reverse=True)\n",
    "# sorted_combined_bag = sorted(combined_bag.items(), key=lambda item: item[1][\"ham_count\"])\n",
    "print(sorted_combined_bag)\n",
    "\n",
    "# P(word | spam) = times appeared in spam / total words\n",
    "\n",
    "# or: p(word | spam)*p(spam) / p(word)\n",
    "\n",
    "# print_portion(bag_of_words, count, 0.9, 1)\n"
   ]
  },
  {
   "cell_type": "code",
   "execution_count": null,
   "id": "b21fa30e",
   "metadata": {},
   "outputs": [],
   "source": []
  },
  {
   "cell_type": "code",
   "execution_count": 2,
   "id": "a28251c3-9de8-4c44-b8b8-ff23386007ac",
   "metadata": {},
   "outputs": [
    {
     "data": {
      "text/plain": [
       "'\\nimport numpy as np\\nimport pandas as pd\\nimport matplotlib.pyplot as plt\\n\\n# reading csv\\ndf = pd.read_csv(\\'Advertising.csv\\')\\n\\n# ???\\ndef update_w_and_b(spendings, sales, w, b, alpha):\\n    dl_dw = 0.0\\n    dl_db = 0.0\\n    N = len(spendings)\\n\\n    for i in range(N):\\n        dl_dw += -2*spendings[i]*(sales[i] - (w*spendings[i] + b))\\n        dl_db += -2*(sales[i] - (w*spendings[i] + b))\\n\\n    w = w - (1/float(N))*dl_dw*alpha\\n    b = b - (1/float(N))*dl_db*alpha\\n\\n    return w, b\\n\\n# ???\\ndef train(spendings, sales, w, b, alpha, epochs):\\n    for e in range(epochs):\\n        w, b = update_w_and_b(spendings, sales, w, b, alpha)\\n\\n        if e % 400 == 0:\\n            print(\"epoch:\", e, \"loss: \", avg_loss(spendings, sales, w, b))\\n\\n    return w, b\\n\\n# ???\\ndef avg_loss(spendings, sales, w, b):\\n    N = len(spendings)\\n    total_error = 0.0\\n    for i in range(N):\\n        total_error += (sales[i] - (w*spendings[i] + b))**2\\n    return total_error / float(N)\\n                                    \\n                        \\n# parameters\\nw_init = 0.0\\nb_init = 0.0\\nalpha = 0.001\\nepochs = 2000\\n\\n# features\\nspendings = df[\\'radio\\'].values\\nsales = df[\\'sales\\'].values\\n\\n# Train the model\\nw, b = train(spendings, sales, w_init, b_init, alpha, epochs)\\n\\n# plot data and linear regression\\nplt.scatter(spendings, sales, label=\\'Data\\')\\nx_line = np.linspace(min(spendings), max(spendings), 100)\\ny_line = w * x_line + b\\nplt.plot(x_line, y_line, color=\\'red\\', label=\\'Linear regression\\')\\nplt.xlabel(\\'Radio Budget\\')\\nplt.ylabel(\\'Sales\\')\\nplt.legend()\\nplt.title(\\'Linear Regression on Radio vs Sales\\')\\nplt.show()\\n\\nprint(\"\\n\")\\n## Test Prediction\\ndef predict(x,w,b):\\n    prediction = w*x + b\\n    print(f\\'Input of {x} has a predicted output of {prediction}\\')\\n    return prediction\\n\\n\\nw, b = train(spendings, sales, 0.0, 0.0, 0.001, 15000)\\nx = 23.0\\ny = predict(x,w,b)\\n'"
      ]
     },
     "execution_count": 2,
     "metadata": {},
     "output_type": "execute_result"
    }
   ],
   "source": [
    "\"\"\"\n",
    "import numpy as np\n",
    "import pandas as pd\n",
    "import matplotlib.pyplot as plt\n",
    "\n",
    "# reading csv\n",
    "df = pd.read_csv('Advertising.csv')\n",
    "\n",
    "# ???\n",
    "def update_w_and_b(spendings, sales, w, b, alpha):\n",
    "    dl_dw = 0.0\n",
    "    dl_db = 0.0\n",
    "    N = len(spendings)\n",
    "\n",
    "    for i in range(N):\n",
    "        dl_dw += -2*spendings[i]*(sales[i] - (w*spendings[i] + b))\n",
    "        dl_db += -2*(sales[i] - (w*spendings[i] + b))\n",
    "\n",
    "    w = w - (1/float(N))*dl_dw*alpha\n",
    "    b = b - (1/float(N))*dl_db*alpha\n",
    "\n",
    "    return w, b\n",
    "\n",
    "# ???\n",
    "def train(spendings, sales, w, b, alpha, epochs):\n",
    "    for e in range(epochs):\n",
    "        w, b = update_w_and_b(spendings, sales, w, b, alpha)\n",
    "\n",
    "        if e % 400 == 0:\n",
    "            print(\"epoch:\", e, \"loss: \", avg_loss(spendings, sales, w, b))\n",
    "\n",
    "    return w, b\n",
    "\n",
    "# ???\n",
    "def avg_loss(spendings, sales, w, b):\n",
    "    N = len(spendings)\n",
    "    total_error = 0.0\n",
    "    for i in range(N):\n",
    "        total_error += (sales[i] - (w*spendings[i] + b))**2\n",
    "    return total_error / float(N)\n",
    "                                    \n",
    "                        \n",
    "# parameters\n",
    "w_init = 0.0\n",
    "b_init = 0.0\n",
    "alpha = 0.001\n",
    "epochs = 2000\n",
    "\n",
    "# features\n",
    "spendings = df['radio'].values\n",
    "sales = df['sales'].values\n",
    "\n",
    "# Train the model\n",
    "w, b = train(spendings, sales, w_init, b_init, alpha, epochs)\n",
    "\n",
    "# plot data and linear regression\n",
    "plt.scatter(spendings, sales, label='Data')\n",
    "x_line = np.linspace(min(spendings), max(spendings), 100)\n",
    "y_line = w * x_line + b\n",
    "plt.plot(x_line, y_line, color='red', label='Linear regression')\n",
    "plt.xlabel('Radio Budget')\n",
    "plt.ylabel('Sales')\n",
    "plt.legend()\n",
    "plt.title('Linear Regression on Radio vs Sales')\n",
    "plt.show()\n",
    "\n",
    "print(\"\\n\")\n",
    "## Test Prediction\n",
    "def predict(x,w,b):\n",
    "    prediction = w*x + b\n",
    "    print(f'Input of {x} has a predicted output of {prediction}')\n",
    "    return prediction\n",
    "\n",
    "\n",
    "w, b = train(spendings, sales, 0.0, 0.0, 0.001, 15000)\n",
    "x = 23.0\n",
    "y = predict(x,w,b)\n",
    "\"\"\""
   ]
  },
  {
   "cell_type": "code",
   "execution_count": null,
   "id": "b2d736b4",
   "metadata": {},
   "outputs": [],
   "source": []
  }
 ],
 "metadata": {
  "kernelspec": {
   "display_name": "Python 3",
   "language": "python",
   "name": "python3"
  },
  "language_info": {
   "codemirror_mode": {
    "name": "ipython",
    "version": 3
   },
   "file_extension": ".py",
   "mimetype": "text/x-python",
   "name": "python",
   "nbconvert_exporter": "python",
   "pygments_lexer": "ipython3",
   "version": "3.9.6"
  }
 },
 "nbformat": 4,
 "nbformat_minor": 5
}
