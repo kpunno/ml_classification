{
 "cells": [
  {
   "cell_type": "markdown",
   "id": "d96c7d61",
   "metadata": {},
   "source": [
    "# Classification\n",
    "\n",
    "Based strictly on spam probabilities"
   ]
  },
  {
   "cell_type": "code",
   "execution_count": null,
   "id": "d7982708-bda0-4a8d-a309-a7a37de4356a",
   "metadata": {},
   "outputs": [],
   "source": [
    "import numpy as np\n",
    "import matplotlib.pyplot as plt\n",
    "import pandas as pd\n",
    "import os\n",
    "\n",
    "from parse import Parse as parse\n",
    "from train import Train as train\n",
    "from test  import Test  as test\n",
    "\n",
    "train_spam_dirpath = \"./data_sets/train/spam\"\n",
    "train_ham_dirpath  = \"./data_sets/train/ham\"\n",
    "test_dirpath  = \"./data_sets/test\"\n",
    "\n",
    "parser_spam = parse(train_spam_dirpath, \"spam\")\n",
    "spam_bag = parser_spam.build_bag_of_words()\n",
    "for word, count in spam_bag.items():\n",
    "    print(word, count)\n",
    "\n",
    "\"\"\"\n",
    "# bag of words for each training directory (ham/spam)\n",
    "spam = train(f\"{train_dirpath}/spam\")\n",
    "ham  = train(f\"{train_dirpath}/ham\")\n",
    "# counts of files in each training directory\n",
    "spam_count = len(spam.get_files_list())\n",
    "ham_count  = len(ham.get_files_list())\n",
    "# initial guess\n",
    "prior = spam_count / ham_count\n",
    "\n",
    "print(\"prior:\", prior)\n",
    "combined = spam.combine(spam, ham)\n",
    "\n",
    "\n",
    "print(combined)\n",
    "# test units for each directory\n",
    "test_spam = test(combined, os.path.join(test_dirpath, \"spam\"), prior)\n",
    "spam_results = test_spam.predict()\n",
    "\"\"\"\n"
   ]
  },
  {
   "cell_type": "code",
   "execution_count": null,
   "id": "aef9d377",
   "metadata": {},
   "outputs": [],
   "source": []
  }
 ],
 "metadata": {
  "kernelspec": {
   "display_name": "Python 3",
   "language": "python",
   "name": "python3"
  },
  "language_info": {
   "codemirror_mode": {
    "name": "ipython",
    "version": 3
   },
   "file_extension": ".py",
   "mimetype": "text/x-python",
   "name": "python",
   "nbconvert_exporter": "python",
   "pygments_lexer": "ipython3",
   "version": "3.9.6"
  }
 },
 "nbformat": 4,
 "nbformat_minor": 5
}
